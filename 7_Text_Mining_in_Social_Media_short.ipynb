{
  "nbformat": 4,
  "nbformat_minor": 0,
  "metadata": {
    "kernelspec": {
      "display_name": "Python 3",
      "language": "python",
      "name": "python3"
    },
    "language_info": {
      "codemirror_mode": {
        "name": "ipython",
        "version": 3
      },
      "file_extension": ".py",
      "mimetype": "text/x-python",
      "name": "python",
      "nbconvert_exporter": "python",
      "pygments_lexer": "ipython3",
      "version": "3.7.4"
    },
    "colab": {
      "name": "7_Text Mining in Social Media_short.ipynb",
      "provenance": [],
      "collapsed_sections": [],
      "toc_visible": true
    }
  },
  "cells": [
    {
      "cell_type": "markdown",
      "metadata": {
        "id": "lGjQzHYG_gm2"
      },
      "source": [
        "# Exercise 8. Text Analytics in Social Media "
      ]
    },
    {
      "cell_type": "markdown",
      "metadata": {
        "id": "vQPNT9wV_gm3"
      },
      "source": [
        "In this exercise we will be using the Twitter US Airline Sentiment data set on Kaggle https://www.kaggle.com/crowdflower/twitter-airline-sentiment for Twitter sentiment analysis. We will first clean the data and then apply two well-known NLP packages for sentiment analysis. After that, we will train our own supervised and unsupervised sentiment analysis classifiers. The steps will be:\n",
        "\n",
        "1. Data cleaning\n",
        "2. Sentiment analysis with NLP packages\n",
        "        2.1. textblob\n",
        "        2.2. VADER\n",
        "3. Supervised sentiment classifier\n",
        "4. Unsupervised sentiment classifier"
      ]
    },
    {
      "cell_type": "code",
      "metadata": {
        "colab": {
          "base_uri": "https://localhost:8080/"
        },
        "id": "I-mcV_61_tPR",
        "outputId": "a58e0a21-b07e-4b40-f370-f6d06f8d37d7"
      },
      "source": [
        "!pip install tweet-preprocessor"
      ],
      "execution_count": 1,
      "outputs": [
        {
          "output_type": "stream",
          "text": [
            "Collecting tweet-preprocessor\n",
            "  Downloading https://files.pythonhosted.org/packages/17/9d/71bd016a9edcef8860c607e531f30bd09b13103c7951ae73dd2bf174163c/tweet_preprocessor-0.6.0-py3-none-any.whl\n",
            "Installing collected packages: tweet-preprocessor\n",
            "Successfully installed tweet-preprocessor-0.6.0\n"
          ],
          "name": "stdout"
        }
      ]
    },
    {
      "cell_type": "code",
      "metadata": {
        "colab": {
          "base_uri": "https://localhost:8080/"
        },
        "id": "uzROj3q4_gm4",
        "outputId": "9de7a594-6ae9-423d-c6c7-fcd8ff6d7752"
      },
      "source": [
        "# Import packages\n",
        "import numpy as np \n",
        "np.random.seed(37)\n",
        "import pandas as pd \n",
        "from textblob import TextBlob\n",
        "from nltk.sentiment.vader import SentimentIntensityAnalyzer\n",
        "from sklearn.ensemble import RandomForestClassifier\n",
        "from sklearn.model_selection import GridSearchCV\n",
        "from sklearn.metrics import classification_report\n",
        "from sklearn.cluster import KMeans\n",
        "from sklearn.feature_extraction.text import TfidfVectorizer\n",
        "from sklearn.model_selection import train_test_split\n",
        "import matplotlib.pyplot as plt\n",
        "from seaborn import countplot, distplot, heatmap\n",
        "from preprocessor.api import clean\n",
        "import inspect\n",
        "import preprocessor\n",
        "import nltk\n",
        "nltk.download('vader_lexicon')"
      ],
      "execution_count": 2,
      "outputs": [
        {
          "output_type": "stream",
          "text": [
            "/usr/local/lib/python3.7/dist-packages/nltk/twitter/__init__.py:20: UserWarning: The twython library has not been installed. Some functionality from the twitter package will not be available.\n",
            "  warnings.warn(\"The twython library has not been installed. \"\n"
          ],
          "name": "stderr"
        },
        {
          "output_type": "stream",
          "text": [
            "[nltk_data] Downloading package vader_lexicon to /root/nltk_data...\n"
          ],
          "name": "stdout"
        },
        {
          "output_type": "execute_result",
          "data": {
            "text/plain": [
              "True"
            ]
          },
          "metadata": {
            "tags": []
          },
          "execution_count": 2
        }
      ]
    },
    {
      "cell_type": "code",
      "metadata": {
        "colab": {
          "base_uri": "https://localhost:8080/"
        },
        "id": "qwZ3Z_WmBAjE",
        "outputId": "2a56d2bb-42fe-4af9-d35a-4d7a9aadb597"
      },
      "source": [
        "from google.colab import drive\n",
        "drive.mount('/content/drive')"
      ],
      "execution_count": 3,
      "outputs": [
        {
          "output_type": "stream",
          "text": [
            "Mounted at /content/drive\n"
          ],
          "name": "stdout"
        }
      ]
    },
    {
      "cell_type": "code",
      "metadata": {
        "colab": {
          "base_uri": "https://localhost:8080/",
          "height": 434
        },
        "id": "mRVpg9bg_gm5",
        "outputId": "451b1002-345a-49bc-89e3-56d140916536"
      },
      "source": [
        "# Import data\n",
        "df = pd.read_csv('/content/drive/MyDrive/TWSM_Data/Tweets.csv')\n",
        "df.head()"
      ],
      "execution_count": 4,
      "outputs": [
        {
          "output_type": "execute_result",
          "data": {
            "text/html": [
              "<div>\n",
              "<style scoped>\n",
              "    .dataframe tbody tr th:only-of-type {\n",
              "        vertical-align: middle;\n",
              "    }\n",
              "\n",
              "    .dataframe tbody tr th {\n",
              "        vertical-align: top;\n",
              "    }\n",
              "\n",
              "    .dataframe thead th {\n",
              "        text-align: right;\n",
              "    }\n",
              "</style>\n",
              "<table border=\"1\" class=\"dataframe\">\n",
              "  <thead>\n",
              "    <tr style=\"text-align: right;\">\n",
              "      <th></th>\n",
              "      <th>tweet_id</th>\n",
              "      <th>airline_sentiment</th>\n",
              "      <th>airline_sentiment_confidence</th>\n",
              "      <th>negativereason</th>\n",
              "      <th>negativereason_confidence</th>\n",
              "      <th>airline</th>\n",
              "      <th>airline_sentiment_gold</th>\n",
              "      <th>name</th>\n",
              "      <th>negativereason_gold</th>\n",
              "      <th>retweet_count</th>\n",
              "      <th>text</th>\n",
              "      <th>tweet_coord</th>\n",
              "      <th>tweet_created</th>\n",
              "      <th>tweet_location</th>\n",
              "      <th>user_timezone</th>\n",
              "    </tr>\n",
              "  </thead>\n",
              "  <tbody>\n",
              "    <tr>\n",
              "      <th>0</th>\n",
              "      <td>570306133677760513</td>\n",
              "      <td>neutral</td>\n",
              "      <td>1.0000</td>\n",
              "      <td>NaN</td>\n",
              "      <td>NaN</td>\n",
              "      <td>Virgin America</td>\n",
              "      <td>NaN</td>\n",
              "      <td>cairdin</td>\n",
              "      <td>NaN</td>\n",
              "      <td>0</td>\n",
              "      <td>@VirginAmerica What @dhepburn said.</td>\n",
              "      <td>NaN</td>\n",
              "      <td>2015-02-24 11:35:52 -0800</td>\n",
              "      <td>NaN</td>\n",
              "      <td>Eastern Time (US &amp; Canada)</td>\n",
              "    </tr>\n",
              "    <tr>\n",
              "      <th>1</th>\n",
              "      <td>570301130888122368</td>\n",
              "      <td>positive</td>\n",
              "      <td>0.3486</td>\n",
              "      <td>NaN</td>\n",
              "      <td>0.0000</td>\n",
              "      <td>Virgin America</td>\n",
              "      <td>NaN</td>\n",
              "      <td>jnardino</td>\n",
              "      <td>NaN</td>\n",
              "      <td>0</td>\n",
              "      <td>@VirginAmerica plus you've added commercials t...</td>\n",
              "      <td>NaN</td>\n",
              "      <td>2015-02-24 11:15:59 -0800</td>\n",
              "      <td>NaN</td>\n",
              "      <td>Pacific Time (US &amp; Canada)</td>\n",
              "    </tr>\n",
              "    <tr>\n",
              "      <th>2</th>\n",
              "      <td>570301083672813571</td>\n",
              "      <td>neutral</td>\n",
              "      <td>0.6837</td>\n",
              "      <td>NaN</td>\n",
              "      <td>NaN</td>\n",
              "      <td>Virgin America</td>\n",
              "      <td>NaN</td>\n",
              "      <td>yvonnalynn</td>\n",
              "      <td>NaN</td>\n",
              "      <td>0</td>\n",
              "      <td>@VirginAmerica I didn't today... Must mean I n...</td>\n",
              "      <td>NaN</td>\n",
              "      <td>2015-02-24 11:15:48 -0800</td>\n",
              "      <td>Lets Play</td>\n",
              "      <td>Central Time (US &amp; Canada)</td>\n",
              "    </tr>\n",
              "    <tr>\n",
              "      <th>3</th>\n",
              "      <td>570301031407624196</td>\n",
              "      <td>negative</td>\n",
              "      <td>1.0000</td>\n",
              "      <td>Bad Flight</td>\n",
              "      <td>0.7033</td>\n",
              "      <td>Virgin America</td>\n",
              "      <td>NaN</td>\n",
              "      <td>jnardino</td>\n",
              "      <td>NaN</td>\n",
              "      <td>0</td>\n",
              "      <td>@VirginAmerica it's really aggressive to blast...</td>\n",
              "      <td>NaN</td>\n",
              "      <td>2015-02-24 11:15:36 -0800</td>\n",
              "      <td>NaN</td>\n",
              "      <td>Pacific Time (US &amp; Canada)</td>\n",
              "    </tr>\n",
              "    <tr>\n",
              "      <th>4</th>\n",
              "      <td>570300817074462722</td>\n",
              "      <td>negative</td>\n",
              "      <td>1.0000</td>\n",
              "      <td>Can't Tell</td>\n",
              "      <td>1.0000</td>\n",
              "      <td>Virgin America</td>\n",
              "      <td>NaN</td>\n",
              "      <td>jnardino</td>\n",
              "      <td>NaN</td>\n",
              "      <td>0</td>\n",
              "      <td>@VirginAmerica and it's a really big bad thing...</td>\n",
              "      <td>NaN</td>\n",
              "      <td>2015-02-24 11:14:45 -0800</td>\n",
              "      <td>NaN</td>\n",
              "      <td>Pacific Time (US &amp; Canada)</td>\n",
              "    </tr>\n",
              "  </tbody>\n",
              "</table>\n",
              "</div>"
            ],
            "text/plain": [
              "             tweet_id  ...               user_timezone\n",
              "0  570306133677760513  ...  Eastern Time (US & Canada)\n",
              "1  570301130888122368  ...  Pacific Time (US & Canada)\n",
              "2  570301083672813571  ...  Central Time (US & Canada)\n",
              "3  570301031407624196  ...  Pacific Time (US & Canada)\n",
              "4  570300817074462722  ...  Pacific Time (US & Canada)\n",
              "\n",
              "[5 rows x 15 columns]"
            ]
          },
          "metadata": {
            "tags": []
          },
          "execution_count": 4
        }
      ]
    },
    {
      "cell_type": "markdown",
      "metadata": {
        "id": "3yYv7mDL_gm5"
      },
      "source": [
        "The data presents the Tweets for six US airlines in February 2015 together with their sentiment (added, not part of Twitter data), confidence in the sentiment and if applicable a reason for negative sentiment and the corresponding confidence."
      ]
    },
    {
      "cell_type": "code",
      "metadata": {
        "colab": {
          "base_uri": "https://localhost:8080/",
          "height": 297
        },
        "id": "C297tFTW_gm6",
        "outputId": "d7d9e48a-53d8-4005-cb41-aa9da2fb15ee"
      },
      "source": [
        "# Examine sentiment class distribution\n",
        "countplot(x=\"airline_sentiment\", data=df)"
      ],
      "execution_count": 5,
      "outputs": [
        {
          "output_type": "execute_result",
          "data": {
            "text/plain": [
              "<matplotlib.axes._subplots.AxesSubplot at 0x7fdf10306850>"
            ]
          },
          "metadata": {
            "tags": []
          },
          "execution_count": 5
        },
        {
          "output_type": "display_data",
          "data": {
            "image/png": "[encoded data removed]",
            "text/plain": [
              "<Figure size 432x288 with 1 Axes>"
            ]
          },
          "metadata": {
            "tags": [],
            "needs_background": "light"
          }
        }
      ]
    },
    {
      "cell_type": "markdown",
      "metadata": {
        "id": "wHi0-fzt_gm6"
      },
      "source": [
        "There are three possible sentiment classes and most of the data is negative."
      ]
    },
    {
      "cell_type": "markdown",
      "metadata": {
        "id": "5V2lLBfg_gm6"
      },
      "source": [
        "## 1. Data preprocessing"
      ]
    },
    {
      "cell_type": "markdown",
      "metadata": {
        "id": "hP9XuiS8_gm7"
      },
      "source": [
        "Cleaning Twitter data requires more effort than cleaning other sources such as news or books, because tweets contain different additional parts such as emojis and hashtags."
      ]
    },
    {
      "cell_type": "code",
      "metadata": {
        "id": "89-aUqsD_gm7"
      },
      "source": [
        "# Data preprocessing\n",
        "df['prep']=[clean(doc) for doc in df['text']]"
      ],
      "execution_count": 6,
      "outputs": []
    },
    {
      "cell_type": "markdown",
      "metadata": {
        "id": "0X0_42HU_gm7"
      },
      "source": [
        "Below in the code you can see the preprocessing steps."
      ]
    },
    {
      "cell_type": "code",
      "metadata": {
        "id": "IoJiITsh_gm7",
        "colab": {
          "base_uri": "https://localhost:8080/",
          "height": 665
        },
        "outputId": "a9a4364f-baa3-4be1-c713-206a25784032"
      },
      "source": [
        "#print(inspect.getsource(preprocessor.preprocess))\n",
        "print(inspect.getsource(preprocessor.defines.Patterns))\n",
        "#print(inspect.getsource(preprocessor.defines))\n",
        "#print(inspect.getsource(preprocessor.clean))\n",
        "''' opts = {\n",
        "    'URL': 'urls',\n",
        "    'MENTION': 'mentions',\n",
        "    'HASHTAG': 'hashtags',\n",
        "    'RESERVED': 'reserved_words',\n",
        "    'EMOJI': 'emojis',\n",
        "    'SMILEY': 'smileys',\n",
        "    'NUMBER':  'numbers',\n",
        "    'ESCAPE_CHAR': 'escape_chars'\n",
        "} '''"
      ],
      "execution_count": 7,
      "outputs": [
        {
          "output_type": "stream",
          "text": [
            "class Patterns:\n",
            "    URL_PATTERN_STR = r\"\"\"(?i)((?:https?:(?:/{1,3}|[a-z0-9%])|[a-z0-9.\\-]+[.](?:com|net|org|edu|gov|mil|aero|asia|biz|cat|coop|info\n",
            "                      |int|jobs|mobi|museum|name|post|pro|tel|travel|xxx|ac|ad|ae|af|ag|ai|al|am|an|ao|aq|ar|as|at|au|aw|ax|az|ba|\n",
            "                      bb|bd|be|bf|bg|bh|bi|bj|bm|bn|bo|br|bs|bt|bv|bw|by|bz|ca|cc|cd|cf|cg|ch|ci|ck|cl|cm|cn|co|cr|cs|cu|cv|cx|cy|\n",
            "                      cz|dd|de|dj|dk|dm|do|dz|ec|ee|eg|eh|er|es|et|eu|fi|fj|fk|fm|fo|fr|ga|gb|gd|ge|gf|gg|gh|gi|gl|gm|gn|gp|gq|gr|\n",
            "                      gs|gt|gu|gw|gy|hk|hm|hn|hr|ht|hu|id|ie|il|im|in|io|iq|ir|is|it|je|jm|jo|jp|ke|kg|kh|ki|km|kn|kp|kr|kw|ky|kz|\n",
            "                      la|lb|lc|li|lk|lr|ls|lt|lu|lv|ly|ma|mc|md|me|mg|mh|mk|ml|mm|mn|mo|mp|mq|mr|ms|mt|mu|mv|mw|mx|my|mz|na|nc|ne|\n",
            "                      nf|ng|ni|nl|no|np|nr|nu|nz|om|pa|pe|pf|pg|ph|pk|pl|pm|pn|pr|ps|pt|pw|py|qa|re|ro|rs|ru|rw|sa|sb|sc|sd|se|sg|\n",
            "                      sh|si|sj|Ja|sk|sl|sm|sn|so|sr|ss|st|su|sv|sx|sy|sz|tc|td|tf|tg|th|tj|tk|tl|tm|tn|to|tp|tr|tt|tv|tw|tz|ua|ug|\n",
            "                      uk|us|uy|uz|va|vc|ve|vg|vi|vn|vu|wf|ws|ye|yt|yu|za|zm|zw)/)(?:[^\\s()<>{}\\[\\]]+|\\([^\\s()]*?\\([^\\s()]+\\)[^\\s()]\n",
            "                      *?\\)|\\([^\\s]+?\\))+(?:\\([^\\s()]*?\\([^\\s()]+\\)[^\\s()]*?\\)|\\([^\\s]+?\\)|[^\\s`!()\\[\\]{};:'\\\".,<>?«»“”‘’])|(?:(?<!@)\n",
            "                      [a-z0-9]+(?:[.\\-][a-z0-9]+)*[.](?:com|net|org|edu|gov|mil|aero|asia|biz|cat|coop|info|int|jobs|mobi|museum|name\n",
            "                      |post|pro|tel|travel|xxx|ac|ad|ae|af|ag|ai|al|am|an|ao|aq|ar|as|at|au|aw|ax|az|ba|bb|bd|be|bf|bg|bh|bi|bj|bm|bn\n",
            "                      |bo|br|bs|bt|bv|bw|by|bz|ca|cc|cd|cf|cg|ch|ci|ck|cl|cm|cn|co|cr|cs|cu|cv|cx|cy|cz|dd|de|dj|dk|dm|do|dz|ec|ee|eg\n",
            "                      |eh|er|es|et|eu|fi|fj|fk|fm|fo|fr|ga|gb|gd|ge|gf|gg|gh|gi|gl|gm|gn|gp|gq|gr|gs|gt|gu|gw|gy|hk|hm|hn|hr|ht|hu|id\n",
            "                      |ie|il|im|in|io|iq|ir|is|it|je|jm|jo|jp|ke|kg|kh|ki|km|kn|kp|kr|kw|ky|kz|la|lb|lc|li|lk|lr|ls|lt|lu|lv|ly|ma|mc|\n",
            "                      md|me|mg|mh|mk|ml|mm|mn|mo|mp|mq|mr|ms|mt|mu|mv|mw|mx|my|mz|na|nc|ne|nf|ng|ni|nl|no|np|nr|nu|nz|om|pa|pe|pf|pg|\n",
            "                      ph|pk|pl|pm|pn|pr|ps|pt|pw|py|qa|re|ro|rs|ru|rw|sa|sb|sc|sd|se|sg|sh|si|sj|Ja|sk|sl|sm|sn|so|sr|ss|st|su|sv|sx|\n",
            "                      sy|sz|tc|td|tf|tg|th|tj|tk|tl|tm|tn|to|tp|tr|tt|tv|tw|tz|ua|ug|uk|us|uy|uz|va|vc|ve|vg|vi|vn|vu|wf|ws|ye|yt|yu|\n",
            "                      za|zm|zw)\\b/?(?!@)))\"\"\"\n",
            "    URL_PATTERN = re.compile(URL_PATTERN_STR, re.IGNORECASE)\n",
            "    HASHTAG_PATTERN = re.compile(r'#\\w*')\n",
            "    MENTION_PATTERN = re.compile(r'@\\w*')\n",
            "    RESERVED_WORDS_PATTERN = re.compile(r'^(RT|FAV)')\n",
            "\n",
            "    try:\n",
            "        # UCS-4\n",
            "        EMOJIS_PATTERN = re.compile(u'([\\U00002600-\\U000027BF])|([\\U0001f300-\\U0001f64F])|([\\U0001f680-\\U0001f6FF])')\n",
            "    except re.error:\n",
            "        # UCS-2\n",
            "        EMOJIS_PATTERN = re.compile(u'([\\u2600-\\u27BF])|([\\uD83C][\\uDF00-\\uDFFF])|([\\uD83D][\\uDC00-\\uDE4F])|([\\uD83D][\\uDE80-\\uDEFF])')\n",
            "\n",
            "    SMILEYS_PATTERN = re.compile(r\"(\\s?:X|:|;|=)(?:-)?(?:\\)+|\\(|O|D|P|S|\\\\|\\/\\s){1,}\", re.IGNORECASE)\n",
            "    NUMBERS_PATTERN = re.compile(r\"(^|\\s)(-?\\d+([.,]?\\d+)*)\")\n",
            "\n"
          ],
          "name": "stdout"
        },
        {
          "output_type": "execute_result",
          "data": {
            "application/vnd.google.colaboratory.intrinsic+json": {
              "type": "string"
            },
            "text/plain": [
              "\" opts = {\\n    'URL': 'urls',\\n    'MENTION': 'mentions',\\n    'HASHTAG': 'hashtags',\\n    'RESERVED': 'reserved_words',\\n    'EMOJI': 'emojis',\\n    'SMILEY': 'smileys',\\n    'NUMBER':  'numbers',\\n    'ESCAPE_CHAR': 'escape_chars'\\n} \""
            ]
          },
          "metadata": {
            "tags": []
          },
          "execution_count": 7
        }
      ]
    },
    {
      "cell_type": "code",
      "metadata": {
        "colab": {
          "base_uri": "https://localhost:8080/",
          "height": 501
        },
        "id": "3F1Iv2S8_gm8",
        "outputId": "a6ed7d19-45e7-454c-e122-485f0ce21f9b"
      },
      "source": [
        "df.head()"
      ],
      "execution_count": 8,
      "outputs": [
        {
          "output_type": "execute_result",
          "data": {
            "text/html": [
              "<div>\n",
              "<style scoped>\n",
              "    .dataframe tbody tr th:only-of-type {\n",
              "        vertical-align: middle;\n",
              "    }\n",
              "\n",
              "    .dataframe tbody tr th {\n",
              "        vertical-align: top;\n",
              "    }\n",
              "\n",
              "    .dataframe thead th {\n",
              "        text-align: right;\n",
              "    }\n",
              "</style>\n",
              "<table border=\"1\" class=\"dataframe\">\n",
              "  <thead>\n",
              "    <tr style=\"text-align: right;\">\n",
              "      <th></th>\n",
              "      <th>tweet_id</th>\n",
              "      <th>airline_sentiment</th>\n",
              "      <th>airline_sentiment_confidence</th>\n",
              "      <th>negativereason</th>\n",
              "      <th>negativereason_confidence</th>\n",
              "      <th>airline</th>\n",
              "      <th>airline_sentiment_gold</th>\n",
              "      <th>name</th>\n",
              "      <th>negativereason_gold</th>\n",
              "      <th>retweet_count</th>\n",
              "      <th>text</th>\n",
              "      <th>tweet_coord</th>\n",
              "      <th>tweet_created</th>\n",
              "      <th>tweet_location</th>\n",
              "      <th>user_timezone</th>\n",
              "      <th>prep</th>\n",
              "    </tr>\n",
              "  </thead>\n",
              "  <tbody>\n",
              "    <tr>\n",
              "      <th>0</th>\n",
              "      <td>570306133677760513</td>\n",
              "      <td>neutral</td>\n",
              "      <td>1.0000</td>\n",
              "      <td>NaN</td>\n",
              "      <td>NaN</td>\n",
              "      <td>Virgin America</td>\n",
              "      <td>NaN</td>\n",
              "      <td>cairdin</td>\n",
              "      <td>NaN</td>\n",
              "      <td>0</td>\n",
              "      <td>@VirginAmerica What @dhepburn said.</td>\n",
              "      <td>NaN</td>\n",
              "      <td>2015-02-24 11:35:52 -0800</td>\n",
              "      <td>NaN</td>\n",
              "      <td>Eastern Time (US &amp; Canada)</td>\n",
              "      <td>What said.</td>\n",
              "    </tr>\n",
              "    <tr>\n",
              "      <th>1</th>\n",
              "      <td>570301130888122368</td>\n",
              "      <td>positive</td>\n",
              "      <td>0.3486</td>\n",
              "      <td>NaN</td>\n",
              "      <td>0.0000</td>\n",
              "      <td>Virgin America</td>\n",
              "      <td>NaN</td>\n",
              "      <td>jnardino</td>\n",
              "      <td>NaN</td>\n",
              "      <td>0</td>\n",
              "      <td>@VirginAmerica plus you've added commercials t...</td>\n",
              "      <td>NaN</td>\n",
              "      <td>2015-02-24 11:15:59 -0800</td>\n",
              "      <td>NaN</td>\n",
              "      <td>Pacific Time (US &amp; Canada)</td>\n",
              "      <td>plus you've added commercials to the experienc...</td>\n",
              "    </tr>\n",
              "    <tr>\n",
              "      <th>2</th>\n",
              "      <td>570301083672813571</td>\n",
              "      <td>neutral</td>\n",
              "      <td>0.6837</td>\n",
              "      <td>NaN</td>\n",
              "      <td>NaN</td>\n",
              "      <td>Virgin America</td>\n",
              "      <td>NaN</td>\n",
              "      <td>yvonnalynn</td>\n",
              "      <td>NaN</td>\n",
              "      <td>0</td>\n",
              "      <td>@VirginAmerica I didn't today... Must mean I n...</td>\n",
              "      <td>NaN</td>\n",
              "      <td>2015-02-24 11:15:48 -0800</td>\n",
              "      <td>Lets Play</td>\n",
              "      <td>Central Time (US &amp; Canada)</td>\n",
              "      <td>I didn't today... Must mean I need to take ano...</td>\n",
              "    </tr>\n",
              "    <tr>\n",
              "      <th>3</th>\n",
              "      <td>570301031407624196</td>\n",
              "      <td>negative</td>\n",
              "      <td>1.0000</td>\n",
              "      <td>Bad Flight</td>\n",
              "      <td>0.7033</td>\n",
              "      <td>Virgin America</td>\n",
              "      <td>NaN</td>\n",
              "      <td>jnardino</td>\n",
              "      <td>NaN</td>\n",
              "      <td>0</td>\n",
              "      <td>@VirginAmerica it's really aggressive to blast...</td>\n",
              "      <td>NaN</td>\n",
              "      <td>2015-02-24 11:15:36 -0800</td>\n",
              "      <td>NaN</td>\n",
              "      <td>Pacific Time (US &amp; Canada)</td>\n",
              "      <td>it's really aggressive to blast obnoxious \"ent...</td>\n",
              "    </tr>\n",
              "    <tr>\n",
              "      <th>4</th>\n",
              "      <td>570300817074462722</td>\n",
              "      <td>negative</td>\n",
              "      <td>1.0000</td>\n",
              "      <td>Can't Tell</td>\n",
              "      <td>1.0000</td>\n",
              "      <td>Virgin America</td>\n",
              "      <td>NaN</td>\n",
              "      <td>jnardino</td>\n",
              "      <td>NaN</td>\n",
              "      <td>0</td>\n",
              "      <td>@VirginAmerica and it's a really big bad thing...</td>\n",
              "      <td>NaN</td>\n",
              "      <td>2015-02-24 11:14:45 -0800</td>\n",
              "      <td>NaN</td>\n",
              "      <td>Pacific Time (US &amp; Canada)</td>\n",
              "      <td>and it's a really big bad thing about it</td>\n",
              "    </tr>\n",
              "  </tbody>\n",
              "</table>\n",
              "</div>"
            ],
            "text/plain": [
              "             tweet_id  ...                                               prep\n",
              "0  570306133677760513  ...                                         What said.\n",
              "1  570301130888122368  ...  plus you've added commercials to the experienc...\n",
              "2  570301083672813571  ...  I didn't today... Must mean I need to take ano...\n",
              "3  570301031407624196  ...  it's really aggressive to blast obnoxious \"ent...\n",
              "4  570300817074462722  ...           and it's a really big bad thing about it\n",
              "\n",
              "[5 rows x 16 columns]"
            ]
          },
          "metadata": {
            "tags": []
          },
          "execution_count": 8
        }
      ]
    },
    {
      "cell_type": "markdown",
      "metadata": {
        "id": "TXU2mRjO_gm8"
      },
      "source": [
        "## 2. Sentiment analysis with NLP packages"
      ]
    },
    {
      "cell_type": "markdown",
      "metadata": {
        "id": "r459GMLI_gm8"
      },
      "source": [
        "### 2.1. Textblob"
      ]
    },
    {
      "cell_type": "markdown",
      "metadata": {
        "id": "FB1Q2Bl6_gm9"
      },
      "source": [
        "Textblob provides two values: polarity and subjectivity. Here, we will use only polarity."
      ]
    },
    {
      "cell_type": "code",
      "metadata": {
        "id": "LVJroWZF_gm9"
      },
      "source": [
        "df['sentiment_tb'] = df['prep'].apply(lambda tweet: TextBlob(tweet).sentiment.polarity)"
      ],
      "execution_count": 9,
      "outputs": []
    },
    {
      "cell_type": "code",
      "metadata": {
        "colab": {
          "base_uri": "https://localhost:8080/"
        },
        "id": "nFqqfaPS_gm9",
        "outputId": "f46154f0-e087-458f-cd2c-061848a1fff6"
      },
      "source": [
        "df['sentiment_tb'].describe()"
      ],
      "execution_count": 10,
      "outputs": [
        {
          "output_type": "execute_result",
          "data": {
            "text/plain": [
              "count    14640.000000\n",
              "mean         0.053555\n",
              "std          0.320756\n",
              "min         -1.000000\n",
              "25%          0.000000\n",
              "50%          0.000000\n",
              "75%          0.200000\n",
              "max          1.000000\n",
              "Name: sentiment_tb, dtype: float64"
            ]
          },
          "metadata": {
            "tags": []
          },
          "execution_count": 10
        }
      ]
    },
    {
      "cell_type": "code",
      "metadata": {
        "id": "6_zTxFZA_gm9"
      },
      "source": [
        "df['sentiment_tb_desc']=df['sentiment_tb'].apply(lambda x: 'positive' if x>0.5 else ('negative' if x < -0.5 else 'neutral'))"
      ],
      "execution_count": 11,
      "outputs": []
    },
    {
      "cell_type": "code",
      "metadata": {
        "colab": {
          "base_uri": "https://localhost:8080/"
        },
        "id": "tWhGq0EC_gm-",
        "outputId": "519cc9fc-5995-42a3-9905-24844e536ff7"
      },
      "source": [
        "print(classification_report(df['airline_sentiment'], df['sentiment_tb_desc']))"
      ],
      "execution_count": 12,
      "outputs": [
        {
          "output_type": "stream",
          "text": [
            "              precision    recall  f1-score   support\n",
            "\n",
            "    negative       0.95      0.06      0.11      9178\n",
            "     neutral       0.22      0.94      0.36      3099\n",
            "    positive       0.55      0.24      0.34      2363\n",
            "\n",
            "    accuracy                           0.27     14640\n",
            "   macro avg       0.57      0.41      0.27     14640\n",
            "weighted avg       0.73      0.27      0.20     14640\n",
            "\n"
          ],
          "name": "stdout"
        }
      ]
    },
    {
      "cell_type": "markdown",
      "metadata": {
        "id": "mFpPHYv5_gm-"
      },
      "source": [
        "Accuracy of 27% is quite low with 33% random accuracy. It seems that it comes from badly classifying the 'negative' class which contains the majority of cases."
      ]
    },
    {
      "cell_type": "code",
      "metadata": {
        "colab": {
          "base_uri": "https://localhost:8080/",
          "height": 524
        },
        "id": "UrSDc9UI_gm-",
        "outputId": "49fb1deb-0a27-4f43-df5a-4f59e1cc539e"
      },
      "source": [
        "# Distribution of the textblob values for different true setiment classes\n",
        "fig, axes = plt.subplots(1, 3, figsize=(10, 4), sharey=True, dpi=100)\n",
        "distplot(df.loc[df.airline_sentiment=='positive', \"sentiment_tb\"]  , color=\"green\", ax=axes[0], axlabel='positive')\n",
        "distplot(df.loc[df.airline_sentiment=='negative', \"sentiment_tb\"] , color=\"red\", ax=axes[1], axlabel='negative')\n",
        "distplot(df.loc[df.airline_sentiment=='neutral', \"sentiment_tb\"] , color=\"gold\", ax=axes[2], axlabel='neutral')"
      ],
      "execution_count": 13,
      "outputs": [
        {
          "output_type": "stream",
          "text": [
            "/usr/local/lib/python3.7/dist-packages/seaborn/distributions.py:2557: FutureWarning: `distplot` is a deprecated function and will be removed in a future version. Please adapt your code to use either `displot` (a figure-level function with similar flexibility) or `histplot` (an axes-level function for histograms).\n",
            "  warnings.warn(msg, FutureWarning)\n",
            "/usr/local/lib/python3.7/dist-packages/seaborn/distributions.py:2557: FutureWarning: `distplot` is a deprecated function and will be removed in a future version. Please adapt your code to use either `displot` (a figure-level function with similar flexibility) or `histplot` (an axes-level function for histograms).\n",
            "  warnings.warn(msg, FutureWarning)\n",
            "/usr/local/lib/python3.7/dist-packages/seaborn/distributions.py:2557: FutureWarning: `distplot` is a deprecated function and will be removed in a future version. Please adapt your code to use either `displot` (a figure-level function with similar flexibility) or `histplot` (an axes-level function for histograms).\n",
            "  warnings.warn(msg, FutureWarning)\n"
          ],
          "name": "stderr"
        },
        {
          "output_type": "execute_result",
          "data": {
            "text/plain": [
              "<matplotlib.axes._subplots.AxesSubplot at 0x7fdf0f94cfd0>"
            ]
          },
          "metadata": {
            "tags": []
          },
          "execution_count": 13
        },
        {
          "output_type": "display_data",
          "data": {
            "image/png": "[encoded data removed]",
            "text/plain": [
              "<Figure size 1000x400 with 3 Axes>"
            ]
          },
          "metadata": {
            "tags": [],
            "needs_background": "light"
          }
        }
      ]
    },
    {
      "cell_type": "markdown",
      "metadata": {
        "id": "zoNwVLjZ_gm_"
      },
      "source": [
        "'Positive' is well represented as there values are mostly greater than zero. 'Neutral' is also well represented as the values there peak at zero. 'Negative' is badly represented as it is not distributed in the negative values, but everywhere. This confirms the results from the classification report."
      ]
    },
    {
      "cell_type": "markdown",
      "metadata": {
        "id": "D3XdbIpN_gm_"
      },
      "source": [
        "## 2.2. Sentiment analysis with VADER"
      ]
    },
    {
      "cell_type": "markdown",
      "metadata": {
        "id": "NX2Y3EFS_gm_"
      },
      "source": [
        "VADER produces four values: negative, neutral, positive and compound. Compound is a combined score of negative and positive."
      ]
    },
    {
      "cell_type": "code",
      "metadata": {
        "id": "dk5VoNBP_gm_"
      },
      "source": [
        "# Initialise method\n",
        "sid = SentimentIntensityAnalyzer()"
      ],
      "execution_count": 14,
      "outputs": []
    },
    {
      "cell_type": "code",
      "metadata": {
        "colab": {
          "base_uri": "https://localhost:8080/"
        },
        "id": "G4HXgh3p62il",
        "outputId": "7188aaf3-a161-4fb9-dd66-9cd77e64a30a"
      },
      "source": [
        "sid.polarity_scores('nice')"
      ],
      "execution_count": 15,
      "outputs": [
        {
          "output_type": "execute_result",
          "data": {
            "text/plain": [
              "{'compound': 0.4215, 'neg': 0.0, 'neu': 0.0, 'pos': 1.0}"
            ]
          },
          "metadata": {
            "tags": []
          },
          "execution_count": 15
        }
      ]
    },
    {
      "cell_type": "code",
      "metadata": {
        "id": "5En3g4a3_gnA"
      },
      "source": [
        "df['sentiment_vd'] = df['prep'].apply(lambda tweet: sid.polarity_scores(tweet)['compound'])"
      ],
      "execution_count": 16,
      "outputs": []
    },
    {
      "cell_type": "code",
      "metadata": {
        "colab": {
          "base_uri": "https://localhost:8080/"
        },
        "id": "yWabMTS2_gnA",
        "outputId": "3b9a4e95-075b-4c29-c13c-b452b15b6fd5"
      },
      "source": [
        "df['sentiment_vd'].describe()"
      ],
      "execution_count": 17,
      "outputs": [
        {
          "output_type": "execute_result",
          "data": {
            "text/plain": [
              "count    14640.000000\n",
              "mean         0.051338\n",
              "std          0.452522\n",
              "min         -0.966800\n",
              "25%         -0.296000\n",
              "50%          0.000000\n",
              "75%          0.421500\n",
              "max          0.976000\n",
              "Name: sentiment_vd, dtype: float64"
            ]
          },
          "metadata": {
            "tags": []
          },
          "execution_count": 17
        }
      ]
    },
    {
      "cell_type": "code",
      "metadata": {
        "id": "Go9AS_eE_gnA"
      },
      "source": [
        "df['sentiment_vd_desc']=df['sentiment_vd'].apply(lambda x: 'positive' if x>0.5 else ('negative' if x < -0.5 else 'neutral'))"
      ],
      "execution_count": 18,
      "outputs": []
    },
    {
      "cell_type": "code",
      "metadata": {
        "scrolled": true,
        "colab": {
          "base_uri": "https://localhost:8080/"
        },
        "id": "i6k8yat5_gnA",
        "outputId": "56e268a8-31ea-42e9-f6e2-798b9c423e25"
      },
      "source": [
        "print(classification_report(df['airline_sentiment'], df['sentiment_vd_desc']))"
      ],
      "execution_count": 19,
      "outputs": [
        {
          "output_type": "stream",
          "text": [
            "              precision    recall  f1-score   support\n",
            "\n",
            "    negative       0.95      0.21      0.34      9178\n",
            "     neutral       0.26      0.81      0.39      3099\n",
            "    positive       0.49      0.58      0.53      2363\n",
            "\n",
            "    accuracy                           0.40     14640\n",
            "   macro avg       0.56      0.53      0.42     14640\n",
            "weighted avg       0.73      0.40      0.38     14640\n",
            "\n"
          ],
          "name": "stdout"
        }
      ]
    },
    {
      "cell_type": "markdown",
      "metadata": {
        "id": "ThaoD5Oq_gnA"
      },
      "source": [
        "Better than textblob, but still not so gut for 'negative' and 'neutral'-> change 0.5 as a threshold."
      ]
    },
    {
      "cell_type": "code",
      "metadata": {
        "colab": {
          "base_uri": "https://localhost:8080/",
          "height": 524
        },
        "id": "CObsznrl_gnB",
        "outputId": "144e9567-891b-4d9c-f40c-ad7ca30af26f"
      },
      "source": [
        "# Distribution of the textblob values for different true setiment classes\n",
        "fig, axes = plt.subplots(1, 3, figsize=(10, 4), sharey=True, dpi=100)\n",
        "distplot(df.loc[df.airline_sentiment=='positive', \"sentiment_vd\"]  , color=\"green\", ax=axes[0], axlabel='positive')\n",
        "distplot(df.loc[df.airline_sentiment=='negative', \"sentiment_vd\"] , color=\"red\", ax=axes[1], axlabel='negative')\n",
        "distplot(df.loc[df.airline_sentiment=='neutral', \"sentiment_vd\"] , color=\"gold\", ax=axes[2], axlabel='neutral')"
      ],
      "execution_count": 20,
      "outputs": [
        {
          "output_type": "stream",
          "text": [
            "/usr/local/lib/python3.7/dist-packages/seaborn/distributions.py:2557: FutureWarning: `distplot` is a deprecated function and will be removed in a future version. Please adapt your code to use either `displot` (a figure-level function with similar flexibility) or `histplot` (an axes-level function for histograms).\n",
            "  warnings.warn(msg, FutureWarning)\n",
            "/usr/local/lib/python3.7/dist-packages/seaborn/distributions.py:2557: FutureWarning: `distplot` is a deprecated function and will be removed in a future version. Please adapt your code to use either `displot` (a figure-level function with similar flexibility) or `histplot` (an axes-level function for histograms).\n",
            "  warnings.warn(msg, FutureWarning)\n",
            "/usr/local/lib/python3.7/dist-packages/seaborn/distributions.py:2557: FutureWarning: `distplot` is a deprecated function and will be removed in a future version. Please adapt your code to use either `displot` (a figure-level function with similar flexibility) or `histplot` (an axes-level function for histograms).\n",
            "  warnings.warn(msg, FutureWarning)\n"
          ],
          "name": "stderr"
        },
        {
          "output_type": "execute_result",
          "data": {
            "text/plain": [
              "<matplotlib.axes._subplots.AxesSubplot at 0x7fdf0fb5c510>"
            ]
          },
          "metadata": {
            "tags": []
          },
          "execution_count": 20
        },
        {
          "output_type": "display_data",
          "data": {
            "image/png": "[encoded data removed]",
            "text/plain": [
              "<Figure size 1000x400 with 3 Axes>"
            ]
          },
          "metadata": {
            "tags": [],
            "needs_background": "light"
          }
        }
      ]
    },
    {
      "cell_type": "markdown",
      "metadata": {
        "id": "NFOtMHO0_gnB"
      },
      "source": [
        "Confirms classification report."
      ]
    },
    {
      "cell_type": "markdown",
      "metadata": {
        "id": "MatAm3h0_gnB"
      },
      "source": [
        "# 3. Supervised sentiment classifier"
      ]
    },
    {
      "cell_type": "markdown",
      "metadata": {
        "id": "0tAVbOpT_gnB"
      },
      "source": [
        "Can we do better than Vader and Textblob by training a supervised model based on the 'airline_sentiment' column? In the following we will use a bag-of-words documnet representation in combination with a random forest classifier."
      ]
    },
    {
      "cell_type": "code",
      "metadata": {
        "id": "bUS3KkU3_gnC"
      },
      "source": [
        "# Initialise the transformer\n",
        "vec=TfidfVectorizer(max_df=0.99, min_df=0.01, stop_words='english')\n",
        "\n",
        "# Apply it to the training data\n",
        "tf=vec.fit_transform(df.prep)"
      ],
      "execution_count": 21,
      "outputs": []
    },
    {
      "cell_type": "code",
      "metadata": {
        "id": "alalmAbH_gnC"
      },
      "source": [
        "# Split data into training and test sets\n",
        "docs_train, docs_test, y_train, y_test = train_test_split(tf, df.airline_sentiment, \n",
        "                                                          test_size = 0.20, random_state = 12)"
      ],
      "execution_count": 22,
      "outputs": []
    },
    {
      "cell_type": "code",
      "metadata": {
        "id": "wmQ3Yfc0_gnD"
      },
      "source": [
        "# Parameter grid\n",
        "param_grid = {\n",
        "    'min_samples_leaf': [2, 3, 4, 5],\n",
        "    'n_estimators': [10,50,100, 200, 300, 1000]\n",
        "}"
      ],
      "execution_count": 23,
      "outputs": []
    },
    {
      "cell_type": "code",
      "metadata": {
        "colab": {
          "base_uri": "https://localhost:8080/"
        },
        "id": "qY6sx06L_gnD",
        "outputId": "4c9b56a4-9643-465b-b6e6-e3587b1c3cb1"
      },
      "source": [
        "# Create a based model\n",
        "rf = RandomForestClassifier(random_state = 42)# Instantiate the grid search model\n",
        "grid_search = GridSearchCV(estimator = rf, param_grid = param_grid, cv = 3)\n",
        "grid_search.fit(docs_train, y_train)"
      ],
      "execution_count": 25,
      "outputs": [
        {
          "output_type": "execute_result",
          "data": {
            "text/plain": [
              "GridSearchCV(cv=3, error_score=nan,\n",
              "             estimator=RandomForestClassifier(bootstrap=True, ccp_alpha=0.0,\n",
              "                                              class_weight=None,\n",
              "                                              criterion='gini', max_depth=None,\n",
              "                                              max_features='auto',\n",
              "                                              max_leaf_nodes=None,\n",
              "                                              max_samples=None,\n",
              "                                              min_impurity_decrease=0.0,\n",
              "                                              min_impurity_split=None,\n",
              "                                              min_samples_leaf=1,\n",
              "                                              min_samples_split=2,\n",
              "                                              min_weight_fraction_leaf=0.0,\n",
              "                                              n_estimators=100, n_jobs=None,\n",
              "                                              oob_score=False, random_state=42,\n",
              "                                              verbose=0, warm_start=False),\n",
              "             iid='deprecated', n_jobs=None,\n",
              "             param_grid={'min_samples_leaf': [2, 3, 4, 5],\n",
              "                         'n_estimators': [10, 50, 100, 200, 300, 1000]},\n",
              "             pre_dispatch='2*n_jobs', refit=True, return_train_score=False,\n",
              "             scoring=None, verbose=0)"
            ]
          },
          "metadata": {
            "tags": []
          },
          "execution_count": 25
        }
      ]
    },
    {
      "cell_type": "code",
      "metadata": {
        "colab": {
          "base_uri": "https://localhost:8080/"
        },
        "id": "ktDiq6Vn_gnD",
        "outputId": "27c15ef7-dc7c-4fd6-8146-f0417845c3b0"
      },
      "source": [
        "best_grid = grid_search.best_estimator_\n",
        "y_pred = best_grid.predict(docs_test)\n",
        "print(classification_report(y_test, y_pred))"
      ],
      "execution_count": 28,
      "outputs": [
        {
          "output_type": "stream",
          "text": [
            "              precision    recall  f1-score   support\n",
            "\n",
            "    negative       0.78      0.87      0.82      1876\n",
            "     neutral       0.49      0.42      0.45       569\n",
            "    positive       0.71      0.51      0.59       483\n",
            "\n",
            "    accuracy                           0.72      2928\n",
            "   macro avg       0.66      0.60      0.62      2928\n",
            "weighted avg       0.71      0.72      0.71      2928\n",
            "\n"
          ],
          "name": "stdout"
        }
      ]
    },
    {
      "cell_type": "markdown",
      "metadata": {
        "id": "MDZFqeD8_gnD"
      },
      "source": [
        "The model greatly outperforms the results from the sentiment packages. As opposed to them it shows the best performance on the 'negative' class (due to data imbalancing)."
      ]
    },
    {
      "cell_type": "markdown",
      "metadata": {
        "id": "JZmMMTe3_gnE"
      },
      "source": [
        "# 4. Unsupervised sentiment classifier"
      ]
    },
    {
      "cell_type": "markdown",
      "metadata": {
        "id": "SmnCGTgu_gnE"
      },
      "source": [
        "We will use a tf-idf k-means clustering approach here."
      ]
    },
    {
      "cell_type": "code",
      "metadata": {
        "colab": {
          "base_uri": "https://localhost:8080/"
        },
        "id": "SlvscUrw_gnE",
        "outputId": "24712c34-d1c3-4c85-bf12-c6f72488a589"
      },
      "source": [
        "#setup kmeans clustering\n",
        "kmeans = KMeans(n_clusters = 3, max_iter = 200, random_state=42)\n",
        "vec=TfidfVectorizer(max_df=0.99, min_df=0.01, stop_words='english')\n",
        "kmeans.fit(vec.fit_transform(df['prep']))\n",
        "words = vec.get_feature_names()\n",
        "common_words = kmeans.cluster_centers_.argsort()[:,-1:-11:-1]\n",
        "for num, centroid in enumerate(common_words):\n",
        "    print(str(num) + ' : ' + ', '.join(words[word] for word in centroid))"
      ],
      "execution_count": 29,
      "outputs": [
        {
          "output_type": "stream",
          "text": [
            "0 : thank, service, just, customer, help, flights, time, plane, amp, hold\n",
            "1 : thanks, flight, just, great, service, help, got, response, guys, time\n",
            "2 : flight, cancelled, flightled, delayed, late, hours, time, help, just, flighted\n"
          ],
          "name": "stdout"
        }
      ]
    },
    {
      "cell_type": "markdown",
      "metadata": {
        "id": "RE8hxlCR_gnE"
      },
      "source": [
        "Cluster 2 seems to be negative, cluster 1 positive and cluster 0 not clear."
      ]
    },
    {
      "cell_type": "code",
      "metadata": {
        "colab": {
          "base_uri": "https://localhost:8080/",
          "height": 770
        },
        "id": "H_TekRW3_gnE",
        "outputId": "edae2f16-9bf7-4c6d-e166-36217a209ab9"
      },
      "source": [
        "df['cluster'] = kmeans.labels_\n",
        "clusters = df.groupby(['cluster', 'airline_sentiment']).size()\n",
        "\n",
        "fig, ax1 = plt.subplots(figsize = (26, 15))\n",
        "heatmap(clusters.unstack(level = 'airline_sentiment'), ax = ax1, cmap = 'Reds')\n",
        "\n",
        "ax1.set_xlabel('airline_sentiment').set_size(18)\n",
        "ax1.set_ylabel('cluster').set_size(18)"
      ],
      "execution_count": 30,
      "outputs": [
        {
          "output_type": "display_data",
          "data": {
            "image/png": "[encoded data removed]",
            "text/plain": [
              "<Figure size 1872x1080 with 2 Axes>"
            ]
          },
          "metadata": {
            "tags": [],
            "needs_background": "light"
          }
        }
      ]
    },
    {
      "cell_type": "markdown",
      "metadata": {
        "id": "N4BBpSzx_gnF"
      },
      "source": [
        "Not really clear and not much in accordance with the cluster centers, may be for the positive one."
      ]
    },
    {
      "cell_type": "code",
      "metadata": {
        "id": "ICO8AkzK_gnF"
      },
      "source": [
        "df['kmeans']=df['cluster'].apply(lambda x: 'negative' if x==2 else ('positive' if x==1 else 'neutral'))"
      ],
      "execution_count": 32,
      "outputs": []
    },
    {
      "cell_type": "code",
      "metadata": {
        "colab": {
          "base_uri": "https://localhost:8080/"
        },
        "id": "8LBYNt32_gnF",
        "outputId": "da81a013-cc2b-48f9-e987-a2acbd9d1da3"
      },
      "source": [
        "print(classification_report(df['airline_sentiment'], df['kmeans']))"
      ],
      "execution_count": 33,
      "outputs": [
        {
          "output_type": "stream",
          "text": [
            "              precision    recall  f1-score   support\n",
            "\n",
            "    negative       0.76      0.25      0.38      9178\n",
            "     neutral       0.23      0.79      0.36      3099\n",
            "    positive       0.58      0.24      0.34      2363\n",
            "\n",
            "    accuracy                           0.36     14640\n",
            "   macro avg       0.52      0.43      0.36     14640\n",
            "weighted avg       0.62      0.36      0.37     14640\n",
            "\n"
          ],
          "name": "stdout"
        }
      ]
    },
    {
      "cell_type": "markdown",
      "metadata": {
        "id": "wPyaI10Z_gnF"
      },
      "source": [
        "Overall not good performance, similar to textblob. Class neutral has low precision, high recall, the other classes show opposite behaviour."
      ]
    }
  ]
}